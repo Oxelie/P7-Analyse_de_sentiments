{
 "cells": [
  {
   "cell_type": "markdown",
   "metadata": {},
   "source": [
    "# Description du Script\n",
    "\n",
    "## Fonctionnalité\n",
    "Ce script implémente une interface utilisateur interactive à l'aide de **ipywidgets** dans un Jupyter Notebook. Il est conçu pour prendre en entrée un texte utilisateur (tweet), puis une prédiction est retourné via l'API.\n",
    "\n",
    "## Détails Techniques\n",
    "1. **Bibliothèques Utilisées**:\n",
    "   - `ipywidgets`: pour créer des widgets interactifs comme des champs de texte, des boutons, etc.\n",
    "   - `requests`: pour effectuer des requêtes HTTP, probablement vers une API externe.\n",
    "\n",
    "2. **Widgets Décrits**:\n",
    "   - Un champ de texte interactif pour entrer un texte (un tweet).\n",
    "   - Un bouton pour déclencher une action (un envoi).\n",
    "\n",
    "3. **Action Prédite**:\n",
    "   - Lors de l'appui sur le bouton, le script envoye le contenu du champ de texte à l'API via une requête HTTP pour obtenir une réponse (prédiction ).\n",
    "\n",
    "4. **Interface Utilisateur**:\n",
    "   - L'interface repose sur des composants visuels pour faciliter l'interaction avec l'utilisateur.\n",
    "   - Les résultats de l'action (prédiction) sont affichés dans le Notebook.\n",
    "\n",
    "## Utilisation de ce notebook\n",
    "\n",
    "1. **Étape 1 : Lancer l'API**\n",
    "   - **Avant d'utiliser ce notebook, assurez-vous que l'API de prédiction est en cours d'exécution. (api.py)**\n",
    "   - Par défaut, le notebook envoie des requêtes à l'URL suivante : url = \"http://localhost:8000/predict\"\n",
    "\n",
    "2. **Étape 2 : Entrer un tweet**\n",
    "   - Dans le code de l'interface de saisie du texte, entrez le texte que vous souhaitez analyser.\n",
    "   - Après l'import des librairies, le dataset d'entraînement est chargé, vous pouvez y sélectionner un exemple de tweet.\n",
    "\n",
    "3. **Étape 3 : Obtenir une prédiction**\n",
    "   - Cliquez sur le bouton \"Prédire\".\n",
    "   - Le notebook enverra le texte à l'API, et la prédiction sera affichée dans le notebook.\n",
    "\n",
    "4. **Étape 4 : Valider ou rejeter la prédiction**\n",
    "   - Si la prédiction est correcte, cliquez sur \"Valider la Prédiction\".\n",
    "   - Si la prédiction est incorrecte, cliquez sur \"Non Valide\".\n",
    "   - Le feedback sera envoyé à l'API pour améliorer le modèle ou enregistrer les erreurs.\n"
   ]
  },
  {
   "cell_type": "code",
   "execution_count": 1,
   "metadata": {},
   "outputs": [],
   "source": [
    "# Importer les modules nécessaires\n",
    "import ipywidgets as widgets\n",
    "from IPython.display import display\n",
    "import requests\n",
    "import pandas as pd\n",
    "import re"
   ]
  },
  {
   "cell_type": "code",
   "execution_count": 2,
   "metadata": {},
   "outputs": [
    {
     "name": "stdout",
     "output_type": "stream",
     "text": [
      "<class 'pandas.core.frame.DataFrame'>\n",
      "RangeIndex: 1600000 entries, 0 to 1599999\n",
      "Data columns (total 2 columns):\n",
      " #   Column    Non-Null Count    Dtype \n",
      "---  ------    --------------    ----- \n",
      " 0   target    1600000 non-null  int64 \n",
      " 1   text_low  1600000 non-null  object\n",
      "dtypes: int64(1), object(1)\n",
      "memory usage: 24.4+ MB\n"
     ]
    },
    {
     "data": {
      "text/html": [
       "<div>\n",
       "<style scoped>\n",
       "    .dataframe tbody tr th:only-of-type {\n",
       "        vertical-align: middle;\n",
       "    }\n",
       "\n",
       "    .dataframe tbody tr th {\n",
       "        vertical-align: top;\n",
       "    }\n",
       "\n",
       "    .dataframe thead th {\n",
       "        text-align: right;\n",
       "    }\n",
       "</style>\n",
       "<table border=\"1\" class=\"dataframe\">\n",
       "  <thead>\n",
       "    <tr style=\"text-align: right;\">\n",
       "      <th></th>\n",
       "      <th>target</th>\n",
       "      <th>text_low</th>\n",
       "    </tr>\n",
       "  </thead>\n",
       "  <tbody>\n",
       "    <tr>\n",
       "      <th>0</th>\n",
       "      <td>0</td>\n",
       "      <td>@switchfoot http://twitpic.com/2y1zl - awww, t...</td>\n",
       "    </tr>\n",
       "    <tr>\n",
       "      <th>1</th>\n",
       "      <td>0</td>\n",
       "      <td>is upset that he can't update his facebook by ...</td>\n",
       "    </tr>\n",
       "    <tr>\n",
       "      <th>2</th>\n",
       "      <td>0</td>\n",
       "      <td>@kenichan i dived many times for the ball. man...</td>\n",
       "    </tr>\n",
       "    <tr>\n",
       "      <th>3</th>\n",
       "      <td>0</td>\n",
       "      <td>my whole body feels itchy and like its on fire</td>\n",
       "    </tr>\n",
       "    <tr>\n",
       "      <th>4</th>\n",
       "      <td>0</td>\n",
       "      <td>@nationwideclass no, it's not behaving at all....</td>\n",
       "    </tr>\n",
       "    <tr>\n",
       "      <th>...</th>\n",
       "      <td>...</td>\n",
       "      <td>...</td>\n",
       "    </tr>\n",
       "    <tr>\n",
       "      <th>1599995</th>\n",
       "      <td>1</td>\n",
       "      <td>just woke up. having no school is the best fee...</td>\n",
       "    </tr>\n",
       "    <tr>\n",
       "      <th>1599996</th>\n",
       "      <td>1</td>\n",
       "      <td>thewdb.com - very cool to hear old walt interv...</td>\n",
       "    </tr>\n",
       "    <tr>\n",
       "      <th>1599997</th>\n",
       "      <td>1</td>\n",
       "      <td>are you ready for your mojo makeover? ask me f...</td>\n",
       "    </tr>\n",
       "    <tr>\n",
       "      <th>1599998</th>\n",
       "      <td>1</td>\n",
       "      <td>happy 38th birthday to my boo of alll time!!! ...</td>\n",
       "    </tr>\n",
       "    <tr>\n",
       "      <th>1599999</th>\n",
       "      <td>1</td>\n",
       "      <td>happy #charitytuesday @thenspcc @sparkscharity...</td>\n",
       "    </tr>\n",
       "  </tbody>\n",
       "</table>\n",
       "<p>1600000 rows × 2 columns</p>\n",
       "</div>"
      ],
      "text/plain": [
       "         target                                           text_low\n",
       "0             0  @switchfoot http://twitpic.com/2y1zl - awww, t...\n",
       "1             0  is upset that he can't update his facebook by ...\n",
       "2             0  @kenichan i dived many times for the ball. man...\n",
       "3             0    my whole body feels itchy and like its on fire \n",
       "4             0  @nationwideclass no, it's not behaving at all....\n",
       "...         ...                                                ...\n",
       "1599995       1  just woke up. having no school is the best fee...\n",
       "1599996       1  thewdb.com - very cool to hear old walt interv...\n",
       "1599997       1  are you ready for your mojo makeover? ask me f...\n",
       "1599998       1  happy 38th birthday to my boo of alll time!!! ...\n",
       "1599999       1  happy #charitytuesday @thenspcc @sparkscharity...\n",
       "\n",
       "[1600000 rows x 2 columns]"
      ]
     },
     "metadata": {},
     "output_type": "display_data"
    }
   ],
   "source": [
    "# Chargement du dataset d'entraînement\n",
    "data_0 = pd.read_csv(\"tweet_low_text.csv\")\n",
    "data_0.info()\n",
    "display(data_0)"
   ]
  },
  {
   "cell_type": "code",
   "execution_count": 3,
   "metadata": {},
   "outputs": [],
   "source": [
    "# correspondance entre les labels et les sentimens\n",
    "target_labels = {0: 'Négatif', 1: 'Positif'}"
   ]
  },
  {
   "cell_type": "code",
   "execution_count": 4,
   "metadata": {},
   "outputs": [
    {
     "name": "stdout",
     "output_type": "stream",
     "text": [
      "Texte sélectionné : @switchfoot http://twitpic.com/2y1zl - awww, that's a bummer.  you shoulda got david carr of third day to do it. ;d\n",
      "True Label : 0\n"
     ]
    }
   ],
   "source": [
    "# Sélection d'un tweet\n",
    "sample = data_0[\"text_low\"].iloc[0]  # Exemple de texte\n",
    "target_sample = data_0[\"target\"].iloc[0]  # True Label associé\n",
    "print(f\"Texte sélectionné : {sample}\")\n",
    "print(f\"True Label : {target_sample}\")"
   ]
  },
  {
   "cell_type": "code",
   "execution_count": 5,
   "metadata": {},
   "outputs": [
    {
     "data": {
      "application/vnd.jupyter.widget-view+json": {
       "model_id": "29f93ba8f5ee4dd893a77920ed4ac009",
       "version_major": 2,
       "version_minor": 0
      },
      "text/plain": [
       "Text(value=\"@switchfoot http://twitpic.com/2y1zl - awww, that's a bummer.  you shoulda got david carr of third…"
      ]
     },
     "metadata": {},
     "output_type": "display_data"
    },
    {
     "data": {
      "application/vnd.jupyter.widget-view+json": {
       "model_id": "ed4d5706a0134af498541fe989f724ff",
       "version_major": 2,
       "version_minor": 0
      },
      "text/plain": [
       "HTML(value='<b>True Label : 0 (Négatif)</b>')"
      ]
     },
     "metadata": {},
     "output_type": "display_data"
    },
    {
     "data": {
      "application/vnd.jupyter.widget-view+json": {
       "model_id": "593db3f4e2504bd09777f60fb40ac574",
       "version_major": 2,
       "version_minor": 0
      },
      "text/plain": [
       "Button(description='Prédire', style=ButtonStyle())"
      ]
     },
     "metadata": {},
     "output_type": "display_data"
    },
    {
     "data": {
      "application/vnd.jupyter.widget-view+json": {
       "model_id": "ea27e52b0a0940d58f1291f0b0494014",
       "version_major": 2,
       "version_minor": 0
      },
      "text/plain": [
       "Output()"
      ]
     },
     "metadata": {},
     "output_type": "display_data"
    }
   ],
   "source": [
    "# Nettoyage des textes\n",
    "def clean_text(text):\n",
    "    # Supprimer les URLs + les liens spécifique twitter\n",
    "    text = re.sub(r'www\\S+|http\\S+', '', text) # Supprimer les URLs \n",
    "    text = re.sub(r'pic.twitter.com/\\S+', '', text) # Supprimer les liens spécifique twitter\n",
    "    text = re.sub(r\"@\\w+|#\", \"\", text) # Supprimer les mentions\n",
    "    text = re.sub(r'#', '', text) # Supprimer les hashtags\n",
    "    text = re.sub(r'[^A-Za-z ]+', ' ', text) # Supprimer les caractères non alphabétiquess\n",
    "    text = re.sub(r'\\s+', ' ', text) # Supprimer les espaces multiples\n",
    "    return text\n",
    "\n",
    "# Fonction pour envoyer une requête POST à l'API et obtenir la prédiction\n",
    "def test_api(tweet):\n",
    "    tweet = clean_text(tweet)\n",
    "    url = \"https://p7-analyse-api-crgpcsdsg8bsbwfh.westeurope-01.azurewebsites.net/predict\" ## localhost:8000/predict\n",
    "\n",
    "    try:\n",
    "        # Envoi de la requête POST avec le texte du tweet\n",
    "        response = requests.post(url, json={\"text\": tweet})\n",
    "        \n",
    "        # Vérification du statut de la réponse\n",
    "        if response.status_code == 200:\n",
    "            # Extraire la prédiction de la réponse JSON\n",
    "            prediction = response.json().get(\"predictions\", [\"Erreur dans la prédiction\"])[0]\n",
    "            \n",
    "            display(widgets.HTML(value=f\"<b>Prédiction : {prediction} ({target_labels[int(prediction)]})</b>\"))\n",
    "            return prediction\n",
    "        else:\n",
    "            display(widgets.HTML(value=f\"<b>Erreur : {response.json().get('error', 'Erreur inconnue')}</b>\"))\n",
    "            return None\n",
    "    except Exception as e:\n",
    "        display(widgets.HTML(value=f\"<b>Erreur de connexion : {e}</b>\"))\n",
    "        return None\n",
    "\n",
    "# Fonction pour envoyer un feedback de prédiction incorrecte\n",
    "def send_feedback(tweet, prediction, feedback_type=\"non_valide\"):\n",
    "    #url = \"http://api-prediction:8123/feedback\"  # URL de l'API pour envoyer un feedback\n",
    "    url = \"https://p7-analyse-api-crgpcsdsg8bsbwfh.westeurope-01.azurewebsites.net/feedback\"\n",
    "    \n",
    "    try:\n",
    "        # Envoi de la requête POST avec le texte du tweet, la prédiction et le type de feedback\n",
    "        response = requests.post(url, json={\"text\": tweet, \"prediction\": prediction, \"feedback\": feedback_type})\n",
    "        \n",
    "        # Vérification du statut de la réponse\n",
    "        if response.status_code == 200:\n",
    "            print(\"Feedback envoyé avec succès.\")\n",
    "        else:\n",
    "            print(\"Erreur lors de l'envoi du feedback :\", response.json().get(\"error\", \"Erreur inconnue\"))\n",
    "    except Exception as e:\n",
    "        print(\"Erreur de connexion pour l'envoi du feedback :\", e)\n",
    "\n",
    "# Interface pour la saisie du tweet\n",
    "tweet_input = widgets.Text(\n",
    "    value=sample,\n",
    "    placeholder=\"@switchfoot http://twitpic.com/2y1zl - awww, that's a bummer.  you shoulda got david carr of third day to do it. ;d\",\n",
    "    description='Tweet:',\n",
    "    disabled=False)\n",
    "\n",
    "# Widget pour afficher le True Label\n",
    "true_label_display = widgets.HTML(value=f\"<b>True Label : {target_sample} ({target_labels[target_sample]})</b>\")\n",
    "\n",
    "# Bouton de validation pour la prédiction\n",
    "validation_button = widgets.Button(description=\"Valider la Prédiction\")\n",
    "non_validation_button = widgets.Button(description=\"Non Valide\")\n",
    "\n",
    "# Conteneur pour afficher la prédiction\n",
    "output = widgets.Output()\n",
    "\n",
    "# Fonction de gestion du clic sur le bouton de validation\n",
    "def on_validation_click(b):\n",
    "    with output:\n",
    "        output.clear_output()\n",
    "        print(\"Prédiction validée par l'utilisateur.\")\n",
    "        \n",
    "        # Envoyer un feedback positif à l'API\n",
    "        send_feedback(tweet_input.value, last_prediction, feedback_type=\"valide\")\n",
    "\n",
    "# Fonction de gestion du clic en cas de non-validation\n",
    "def on_non_validation_click(b):\n",
    "    with output:\n",
    "        output.clear_output()\n",
    "        print(\"Prédiction non validée par l'utilisateur.\")\n",
    "        \n",
    "        # Envoyer un feedback négatif à l'API\n",
    "        send_feedback(tweet_input.value, last_prediction, feedback_type=\"non_valide\")\n",
    "\n",
    "# Liaison des boutons avec les fonctions de gestion\n",
    "validation_button.on_click(on_validation_click)\n",
    "non_validation_button.on_click(on_non_validation_click)\n",
    "\n",
    "# Fonction d'affichage des widgets\n",
    "def display_interface(_):\n",
    "    global last_prediction\n",
    "    with output:\n",
    "        output.clear_output()\n",
    "        last_prediction = test_api(tweet_input.value)  # Stocker la dernière prédiction\n",
    "        if last_prediction is not None:\n",
    "            display(validation_button, non_validation_button)\n",
    "\n",
    "# Bouton de lancement de la prédiction\n",
    "predict_button = widgets.Button(description=\"Prédire\")\n",
    "predict_button.on_click(display_interface)\n",
    "\n",
    "# Affichage des widgets\n",
    "display(tweet_input, true_label_display, predict_button, output)\n"
   ]
  }
 ],
 "metadata": {
  "kernelspec": {
   "display_name": "env_p7_chantepie",
   "language": "python",
   "name": "python3"
  },
  "language_info": {
   "codemirror_mode": {
    "name": "ipython",
    "version": 3
   },
   "file_extension": ".py",
   "mimetype": "text/x-python",
   "name": "python",
   "nbconvert_exporter": "python",
   "pygments_lexer": "ipython3",
   "version": "3.9.21"
  }
 },
 "nbformat": 4,
 "nbformat_minor": 2
}
